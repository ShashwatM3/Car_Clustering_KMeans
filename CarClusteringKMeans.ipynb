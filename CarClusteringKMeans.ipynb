{
 "cells": [
  {
   "cell_type": "code",
   "execution_count": 1,
   "id": "d39be227",
   "metadata": {},
   "outputs": [],
   "source": [
    "import numpy as np\n",
    "import pandas as pd\n",
    "import matplotlib.pyplot as plt\n",
    "%matplotlib inline"
   ]
  },
  {
   "cell_type": "code",
   "execution_count": 9,
   "id": "5ff72901",
   "metadata": {},
   "outputs": [],
   "source": [
    "data = pd.read_csv(r\"C:\\Users\\gobus\\Desktop\\,\\ML-AI-Blog\\Machine Learning Full\\Machine Learning Tutorial Part 1 _ 2\\Part 2\\cars (dataset for k means).csv\")"
   ]
  },
  {
   "cell_type": "code",
   "execution_count": 24,
   "id": "29840720",
   "metadata": {},
   "outputs": [
    {
     "name": "stdout",
     "output_type": "stream",
     "text": [
      "      mpg   cylinders   cubicinches   hp   weightlbs   time-to-60   year\n",
      "0    14.0           8         350.0  165      4209.0           12   1972\n",
      "1    31.9           4          89.0   71      1925.0           14   1980\n",
      "2    17.0           8         302.0  140      3449.0           11   1971\n",
      "3    15.0           8         400.0  150      3761.0           10   1971\n",
      "4    30.5           4          98.0   63      2051.0           17   1978\n",
      "..    ...         ...           ...  ...         ...          ...    ...\n",
      "256  17.0           8         305.0  130      3840.0           15   1980\n",
      "257  36.1           4          91.0   60      1800.0           16   1979\n",
      "258  22.0           6         232.0  112      2835.0           15   1983\n",
      "259  18.0           6         232.0  100      3288.0           16   1972\n",
      "260  22.0           6         250.0  105      3353.0           15   1977\n",
      "\n",
      "[261 rows x 7 columns]\n"
     ]
    }
   ],
   "source": [
    "x = data[data.columns[:-1]]\n",
    "x = x._convert(numeric=True)\n",
    "print(x)"
   ]
  },
  {
   "cell_type": "code",
   "execution_count": 26,
   "id": "cbaba5a5",
   "metadata": {},
   "outputs": [
    {
     "name": "stdout",
     "output_type": "stream",
     "text": [
      "0\n",
      "0\n",
      "0\n",
      "0\n",
      "0\n",
      "0\n",
      "0\n"
     ]
    }
   ],
   "source": [
    "for i in x.columns:\n",
    "    x[i]=x[i].fillna(int(x[i].mean()))\n",
    "for i in x.columns:\n",
    "    print(x[i].isnull().sum())"
   ]
  },
  {
   "cell_type": "code",
   "execution_count": 29,
   "id": "8cd48781",
   "metadata": {},
   "outputs": [
    {
     "name": "stderr",
     "output_type": "stream",
     "text": [
      "C:\\Users\\gobus\\anaconda3\\lib\\site-packages\\sklearn\\cluster\\_kmeans.py:1036: UserWarning: KMeans is known to have a memory leak on Windows with MKL, when there are less chunks than available threads. You can avoid it by setting the environment variable OMP_NUM_THREADS=2.\n",
      "  warnings.warn(\n"
     ]
    },
    {
     "data": {
      "image/png": "[encoded data removed]",
      "text/plain": [
       "<Figure size 432x288 with 1 Axes>"
      ]
     },
     "metadata": {
      "needs_background": "light"
     },
     "output_type": "display_data"
    }
   ],
   "source": [
    "#Finding the optimal number of clusters using elbow method\n",
    "from sklearn.cluster import KMeans\n",
    "\n",
    "wcss = []\n",
    "\n",
    "for i in range(1, 11):\n",
    "    kmeans = KMeans(n_clusters = i, max_iter=300, n_init=10, random_state=0, init='k-means++')\n",
    "    kmeans.fit(x)\n",
    "    wcss.append(kmeans.inertia_)\n",
    "    \n",
    "plt.plot(range(1, 11), wcss)\n",
    "plt.xlabel(\"Number of Clusters\")\n",
    "plt.ylabel(\"WCSS\")\n",
    "plt.show()"
   ]
  },
  {
   "cell_type": "code",
   "execution_count": 41,
   "id": "39014033",
   "metadata": {},
   "outputs": [],
   "source": [
    "#Applying the model\n",
    "kmeans = KMeans(n_clusters = 3, max_iter=300, n_init=10, random_state=0, init='k-means++')\n",
    "y_kmeans = kmeans.fit_predict(x)"
   ]
  },
  {
   "cell_type": "code",
   "execution_count": 49,
   "id": "c1f9c35f",
   "metadata": {},
   "outputs": [
    {
     "data": {
      "text/plain": [
       "<matplotlib.legend.Legend at 0x201360cf070>"
      ]
     },
     "execution_count": 49,
     "metadata": {},
     "output_type": "execute_result"
    },
    {
     "data": {
      "image/png": "[encoded data removed]",
      "text/plain": [
       "<Figure size 432x288 with 1 Axes>"
      ]
     },
     "metadata": {
      "needs_background": "light"
     },
     "output_type": "display_data"
    }
   ],
   "source": [
    "plt.scatter(x[y_kmeans==0, 0], x[y_kmeans==0, 1],s=100,c=\"red\",label=\"Toyota\")\n",
    "plt.scatter(x[y_kmeans==1, 0], x[y_kmeans==1, 1],s=100,c=\"blue\",label=\"Nissan\")\n",
    "plt.scatter(x[y_kmeans==2, 0], x[y_kmeans==2, 1],s=100,c=\"green\",label=\"Honda\")\n",
    "plt.scatter(kmeans.cluster_centers_[:,0], kmeans.cluster_centers_[:,1],s=300, color=\"yellow\", label=\"Centroids\")\n",
    "plt.legend()"
   ]
  },
  {
   "cell_type": "code",
   "execution_count": null,
   "id": "e598ff73",
   "metadata": {},
   "outputs": [],
   "source": []
  }
 ],
 "metadata": {
  "kernelspec": {
   "display_name": "Python 3 (ipykernel)",
   "language": "python",
   "name": "python3"
  },
  "language_info": {
   "codemirror_mode": {
    "name": "ipython",
    "version": 3
   },
   "file_extension": ".py",
   "mimetype": "text/x-python",
   "name": "python",
   "nbconvert_exporter": "python",
   "pygments_lexer": "ipython3",
   "version": "3.9.12"
  }
 },
 "nbformat": 4,
 "nbformat_minor": 5
}
